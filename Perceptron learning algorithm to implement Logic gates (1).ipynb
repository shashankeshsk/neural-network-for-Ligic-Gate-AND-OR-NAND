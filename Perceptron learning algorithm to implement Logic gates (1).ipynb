{
 "cells": [
  {
   "cell_type": "markdown",
   "metadata": {},
   "source": [
    "# Perceptron learning algorithm to implement Logic gates with Backpropagation algorithm\n"
   ]
  },
  {
   "cell_type": "code",
   "execution_count": 196,
   "metadata": {},
   "outputs": [],
   "source": [
    "import numpy as np\n",
    "import matplotlib.pyplot as plt"
   ]
  },
  {
   "cell_type": "code",
   "execution_count": 197,
   "metadata": {},
   "outputs": [],
   "source": [
    "train_set_x = np.array([[0,0,1,1],[0,1,0,1]])\n",
    "train_set_y = np.array([[0,0,0,1]])\n",
    "train_set_yAND = np.array([[0,0,0,1]])#AND\n",
    "train_set_yOR = np.array([[0,1,1,1]])#OR\n",
    "train_set_yNAND = np.array([[1,1,1,0]])#NAND"
   ]
  },
  {
   "cell_type": "code",
   "execution_count": 198,
   "metadata": {},
   "outputs": [],
   "source": [
    "\n",
    "def hardlim(z):\n",
    "    s = (z>=0).astype(float)\n",
    "    return s"
   ]
  },
  {
   "cell_type": "code",
   "execution_count": 199,
   "metadata": {},
   "outputs": [],
   "source": [
    "def initialize_with_zeros(dim):\n",
    "    \n",
    "    w = np.zeros((dim,1))\n",
    "    b = 0.0\n",
    "\n",
    "    assert(w.shape == (dim, 1))\n",
    "    assert(isinstance(b, float) or isinstance(b, int))\n",
    "    \n",
    "    return w, b"
   ]
  },
  {
   "cell_type": "markdown",
   "metadata": {},
   "source": [
    "### 4.3 - Forward and Backward propagation\n",
    "\n",
    "Now that your parameters are initialized, you can do the \"forward\" and \"backward\" propagation steps for learning the parameters.\n",
    "\n",
    "$A = \\sigma(w^T X + b) = (a^{(1)}, a^{(2)}, ..., a^{(m-1)}, a^{(m)})$\n",
    "(cost) $J = \\frac{1}{2}\\sum_{i=1}^{m}(a^{(i)}-y^{(i)})^{(2)}$\n",
    "\n",
    "Here are the two formulas you will be using: \n",
    "\n",
    "$$ \\frac{\\partial J}{\\partial w} = \\ X(A-Y)^T\\tag{7}$$\n",
    "$$ \\frac{\\partial J}{\\partial b} = \\sum_{i=1}^m (a^{(i)}-y^{(i)})\\tag{8}$$"
   ]
  },
  {
   "cell_type": "code",
   "execution_count": 200,
   "metadata": {},
   "outputs": [],
   "source": [
    "\n",
    "def propagate(w, b, X, Y):\n",
    "    \n",
    "    m = X.shape[1]\n",
    "    \n",
    "    # FORWARD PROPAGATION (FROM X TO COST)\n",
    "    A = sigmoid(np.dot(w.T,X)+b)                                    # compute activation\n",
    "    cost = np.sum((A-Y)**2)/2                                # compute cost\n",
    "    \n",
    "    # BACKWARD PROPAGATION (TO FIND GRAD)\n",
    "    dw = np.dot(X,(A-Y).T)\n",
    "    db = np.sum((A-Y))\n",
    "\n",
    "    assert(dw.shape == w.shape)\n",
    "    assert(db.dtype == float)\n",
    "    cost = np.squeeze(cost)\n",
    "    assert(cost.shape == ())\n",
    "    \n",
    "    grads = {\"dw\": dw,\n",
    "             \"db\": db}\n",
    "    \n",
    "    return grads, cost"
   ]
  },
  {
   "cell_type": "code",
   "execution_count": 201,
   "metadata": {},
   "outputs": [],
   "source": [
    "\n",
    "def optimize(w, b, X, Y, num_iterations, learning_rate, print_cost = False):\n",
    "    \n",
    "    costs = []\n",
    "    \n",
    "    for i in range(num_iterations):\n",
    "        \n",
    "        \n",
    "        # Cost and gradient calculation\n",
    "        grads, cost = propagate(w, b, X, Y)\n",
    "        \n",
    "        # Retrieve derivatives from grads\n",
    "        dw = grads[\"dw\"]\n",
    "        db = grads[\"db\"]\n",
    "        \n",
    "        # update rule\n",
    "        w = w - learning_rate * dw\n",
    "        b = b - learning_rate * db\n",
    "        \n",
    "        # Record the costs\n",
    "        costs.append(cost)\n",
    "        \n",
    "        # Print the cost every training iterations\n",
    "        print (\"Cost after iteration %i: %f\" %(i, cost))\n",
    "    \n",
    "    params = {\"w\": w,\n",
    "              \"b\": b}\n",
    "    \n",
    "    grads = {\"dw\": dw,\n",
    "             \"db\": db}\n",
    "    \n",
    "    return params, grads, costs"
   ]
  },
  {
   "cell_type": "code",
   "execution_count": 202,
   "metadata": {},
   "outputs": [],
   "source": [
    "\n",
    "def predict(w, b, X):\n",
    "    \n",
    "    m = X.shape[1]\n",
    "    Y_prediction = np.zeros((1,m))\n",
    "    w = w.reshape(X.shape[0], 1)\n",
    "    \n",
    "    A = hardlim(np.dot(w.T,X)+b)\n",
    "    \n",
    "    Y_prediction = A    \n",
    "    assert(Y_prediction.shape == (1, m))\n",
    "    \n",
    "    return Y_prediction"
   ]
  },
  {
   "cell_type": "code",
   "execution_count": 203,
   "metadata": {},
   "outputs": [],
   "source": [
    "\n",
    "def model(X_train, Y_train, num_iterations = 2000, learning_rate = 0.5, print_cost = False):\n",
    "    \n",
    "    # initialize parameters with zeros\n",
    "    w, b = initialize_with_zeros(X_train.shape[0])\n",
    "\n",
    "    # Gradient descent\n",
    "    parameters, grads, costs = optimize(w, b, X_train, Y_train, num_iterations, learning_rate, print_cost = True)\n",
    "    \n",
    "    # Retrieve parameters w and b from dictionary \"parameters\"\n",
    "    w = parameters[\"w\"]\n",
    "    b = parameters[\"b\"]\n",
    "    \n",
    "    Y_prediction_train = predict(w, b, X_train)\n",
    "\n",
    "\n",
    "    print(\"train accuracy: {} %\".format(100 - np.mean(np.abs(Y_prediction_train - Y_train)) * 100))\n",
    "    print('w: {}'.format(w))\n",
    "    print('b: {}'.format(b))\n",
    "    print('Y_prediction_train: {}'.format(Y_prediction_train))\n",
    "    print('Y_train: {}'.format(Y_train))\n",
    "    d = {\"costs\": costs,\n",
    "         \"Y_prediction_train\" : Y_prediction_train, \n",
    "         \"w\" : w, \n",
    "         \"b\" : b,\n",
    "         \"learning_rate\" : learning_rate,\n",
    "         \"num_iterations\": num_iterations}\n",
    "    \n",
    "    return d"
   ]
  },
  {
   "cell_type": "code",
   "execution_count": 204,
   "metadata": {},
   "outputs": [
    {
     "name": "stdout",
     "output_type": "stream",
     "text": [
      "---------AND Neural Network Model----------\n",
      "Cost after iteration 0: 0.500000\n",
      "Cost after iteration 1: 1.500000\n",
      "Cost after iteration 2: 0.500000\n",
      "Cost after iteration 3: 1.000000\n",
      "Cost after iteration 4: 0.500000\n",
      "Cost after iteration 5: 0.000000\n",
      "Cost after iteration 6: 0.000000\n",
      "Cost after iteration 7: 0.000000\n",
      "Cost after iteration 8: 0.000000\n",
      "Cost after iteration 9: 0.000000\n",
      "train accuracy: 100.0 %\n",
      "w: [[0.01]\n",
      " [0.01]]\n",
      "b: -0.019999999999999997\n",
      "Y_prediction_train: [[0. 0. 0. 1.]]\n",
      "Y_train: [[0 0 0 1]]\n"
     ]
    },
    {
     "data": {
      "image/png": "[encoded data removed]",
      "text/plain": [
       "<Figure size 432x288 with 1 Axes>"
      ]
     },
     "metadata": {
      "needs_background": "light"
     },
     "output_type": "display_data"
    }
   ],
   "source": [
    "print(\"---------AND Neural Network Model----------\")\n",
    "dAND = model(train_set_x, train_set_yAND, num_iterations = 10, learning_rate = 0.01, print_cost = True)\n",
    "# Plot learning curve (with costs)\n",
    "costs = np.squeeze(dAND['costs'])\n",
    "plt.plot(costs)\n",
    "plt.ylabel('cost')\n",
    "plt.xlabel('iterations')\n",
    "plt.title(\"Learning rate =\" + str(dAND[\"learning_rate\"]))\n",
    "plt.show()"
   ]
  },
  {
   "cell_type": "code",
   "execution_count": 205,
   "metadata": {},
   "outputs": [
    {
     "name": "stdout",
     "output_type": "stream",
     "text": [
      "learning rate is: 0.01\n",
      "Cost after iteration 0: 0.500000\n",
      "Cost after iteration 1: 1.500000\n",
      "Cost after iteration 2: 0.500000\n",
      "Cost after iteration 3: 1.000000\n",
      "Cost after iteration 4: 0.500000\n",
      "Cost after iteration 5: 0.000000\n",
      "Cost after iteration 6: 0.000000\n",
      "Cost after iteration 7: 0.000000\n",
      "Cost after iteration 8: 0.000000\n",
      "Cost after iteration 9: 0.000000\n",
      "train accuracy: 100.0 %\n",
      "w: [[0.01]\n",
      " [0.01]]\n",
      "b: -0.019999999999999997\n",
      "Y_prediction_train: [[0. 0. 0. 1.]]\n",
      "Y_train: [[0 0 0 1]]\n",
      "\n",
      "-------------------------------------------------------\n",
      "\n",
      "learning rate is: 0.001\n",
      "Cost after iteration 0: 0.500000\n",
      "Cost after iteration 1: 1.500000\n",
      "Cost after iteration 2: 0.500000\n",
      "Cost after iteration 3: 0.000000\n",
      "Cost after iteration 4: 0.000000\n",
      "Cost after iteration 5: 0.000000\n",
      "Cost after iteration 6: 0.000000\n",
      "Cost after iteration 7: 0.000000\n",
      "Cost after iteration 8: 0.000000\n",
      "Cost after iteration 9: 0.000000\n",
      "train accuracy: 50.0 %\n",
      "w: [[0.001]\n",
      " [0.001]]\n",
      "b: -0.001\n",
      "Y_prediction_train: [[0. 1. 1. 1.]]\n",
      "Y_train: [[0 0 0 1]]\n",
      "\n",
      "-------------------------------------------------------\n",
      "\n",
      "learning rate is: 0.0001\n",
      "Cost after iteration 0: 0.500000\n",
      "Cost after iteration 1: 1.500000\n",
      "Cost after iteration 2: 0.500000\n",
      "Cost after iteration 3: 0.000000\n",
      "Cost after iteration 4: 0.000000\n",
      "Cost after iteration 5: 0.000000\n",
      "Cost after iteration 6: 0.000000\n",
      "Cost after iteration 7: 0.000000\n",
      "Cost after iteration 8: 0.000000\n",
      "Cost after iteration 9: 0.000000\n",
      "train accuracy: 100.0 %\n",
      "w: [[0.0001]\n",
      " [0.0001]]\n",
      "b: -0.00010000000000000003\n",
      "Y_prediction_train: [[0. 0. 0. 1.]]\n",
      "Y_train: [[0 0 0 1]]\n",
      "\n",
      "-------------------------------------------------------\n",
      "\n"
     ]
    },
    {
     "data": {
      "image/png": "[encoded data removed]",
      "text/plain": [
       "<Figure size 432x288 with 1 Axes>"
      ]
     },
     "metadata": {
      "needs_background": "light"
     },
     "output_type": "display_data"
    }
   ],
   "source": [
    "learning_rates = [0.01, 0.001, 0.0001]\n",
    "modelsAND = {}\n",
    "for i in learning_rates:\n",
    "    print (\"learning rate is: \" + str(i))\n",
    "    modelsAND[str(i)] = model(train_set_x, train_set_yAND, num_iterations = 10, learning_rate = i, print_cost = False)\n",
    "    print ('\\n' + \"-------------------------------------------------------\" + '\\n')\n",
    "\n",
    "for i in learning_rates:\n",
    "    plt.plot(np.squeeze(modelsAND[str(i)][\"costs\"]), label= str(modelsAND[str(i)][\"learning_rate\"]))\n",
    "\n",
    "plt.ylabel('cost')\n",
    "plt.xlabel('iterations')\n",
    "\n",
    "legend = plt.legend(loc='upper center', shadow=True)\n",
    "frame = legend.get_frame()\n",
    "frame.set_facecolor('0.90')\n",
    "plt.show()"
   ]
  },
  {
   "cell_type": "code",
   "execution_count": 206,
   "metadata": {},
   "outputs": [
    {
     "name": "stdout",
     "output_type": "stream",
     "text": [
      "----------OR Neural Network Model-----------\n",
      "Cost after iteration 0: 1.500000\n",
      "Cost after iteration 1: 0.500000\n",
      "Cost after iteration 2: 0.500000\n",
      "Cost after iteration 3: 0.500000\n",
      "Cost after iteration 4: 0.000000\n",
      "Cost after iteration 5: 0.000000\n",
      "Cost after iteration 6: 0.000000\n",
      "Cost after iteration 7: 0.000000\n",
      "Cost after iteration 8: 0.000000\n",
      "Cost after iteration 9: 0.000000\n",
      "train accuracy: 100.0 %\n",
      "w: [[0.02]\n",
      " [0.02]]\n",
      "b: -3.469446951953614e-18\n",
      "Y_prediction_train: [[0. 1. 1. 1.]]\n",
      "Y_train: [[0 1 1 1]]\n"
     ]
    },
    {
     "data": {
      "image/png": "[encoded data removed]",
      "text/plain": [
       "<Figure size 432x288 with 1 Axes>"
      ]
     },
     "metadata": {
      "needs_background": "light"
     },
     "output_type": "display_data"
    }
   ],
   "source": [
    "print(\"----------OR Neural Network Model-----------\")\n",
    "dOR = model(train_set_x, train_set_yOR, num_iterations = 10, learning_rate = 0.01, print_cost = True)\n",
    "# Plot learning curve (with costs)\n",
    "costs = np.squeeze(dOR['costs'])\n",
    "plt.plot(costs)\n",
    "plt.ylabel('cost')\n",
    "plt.xlabel('iterations ')\n",
    "plt.title(\"Learning rate =\" + str(dOR[\"learning_rate\"]))\n",
    "plt.show()"
   ]
  },
  {
   "cell_type": "code",
   "execution_count": 207,
   "metadata": {},
   "outputs": [
    {
     "name": "stdout",
     "output_type": "stream",
     "text": [
      "learning rate is: 0.01\n",
      "Cost after iteration 0: 1.500000\n",
      "Cost after iteration 1: 0.500000\n",
      "Cost after iteration 2: 0.500000\n",
      "Cost after iteration 3: 0.500000\n",
      "Cost after iteration 4: 0.000000\n",
      "Cost after iteration 5: 0.000000\n",
      "Cost after iteration 6: 0.000000\n",
      "Cost after iteration 7: 0.000000\n",
      "Cost after iteration 8: 0.000000\n",
      "Cost after iteration 9: 0.000000\n",
      "train accuracy: 100.0 %\n",
      "w: [[0.02]\n",
      " [0.02]]\n",
      "b: -3.469446951953614e-18\n",
      "Y_prediction_train: [[0. 1. 1. 1.]]\n",
      "Y_train: [[0 1 1 1]]\n",
      "\n",
      "-------------------------------------------------------\n",
      "\n",
      "learning rate is: 0.001\n",
      "Cost after iteration 0: 1.500000\n",
      "Cost after iteration 1: 0.500000\n",
      "Cost after iteration 2: 0.500000\n",
      "Cost after iteration 3: 0.500000\n",
      "Cost after iteration 4: 0.000000\n",
      "Cost after iteration 5: 0.000000\n",
      "Cost after iteration 6: 0.000000\n",
      "Cost after iteration 7: 0.000000\n",
      "Cost after iteration 8: 0.000000\n",
      "Cost after iteration 9: 0.000000\n",
      "train accuracy: 75.0 %\n",
      "w: [[0.002]\n",
      " [0.002]]\n",
      "b: 0.0\n",
      "Y_prediction_train: [[1. 1. 1. 1.]]\n",
      "Y_train: [[0 1 1 1]]\n",
      "\n",
      "-------------------------------------------------------\n",
      "\n",
      "learning rate is: 0.0001\n",
      "Cost after iteration 0: 1.500000\n",
      "Cost after iteration 1: 0.500000\n",
      "Cost after iteration 2: 0.500000\n",
      "Cost after iteration 3: 0.500000\n",
      "Cost after iteration 4: 0.500000\n",
      "Cost after iteration 5: 0.000000\n",
      "Cost after iteration 6: 0.000000\n",
      "Cost after iteration 7: 0.000000\n",
      "Cost after iteration 8: 0.000000\n",
      "Cost after iteration 9: 0.000000\n",
      "train accuracy: 100.0 %\n",
      "w: [[0.0002]\n",
      " [0.0002]]\n",
      "b: -9.999999999999998e-05\n",
      "Y_prediction_train: [[0. 1. 1. 1.]]\n",
      "Y_train: [[0 1 1 1]]\n",
      "\n",
      "-------------------------------------------------------\n",
      "\n"
     ]
    },
    {
     "data": {
      "image/png": "[encoded data removed]",
      "text/plain": [
       "<Figure size 432x288 with 1 Axes>"
      ]
     },
     "metadata": {
      "needs_background": "light"
     },
     "output_type": "display_data"
    }
   ],
   "source": [
    "learning_rates = [0.01, 0.001, 0.0001]\n",
    "modelsOR = {}\n",
    "for i in learning_rates:\n",
    "    print (\"learning rate is: \" + str(i))\n",
    "    modelsOR[str(i)] = model(train_set_x, train_set_yOR, num_iterations = 10, learning_rate = i, print_cost = False)\n",
    "    print ('\\n' + \"-------------------------------------------------------\" + '\\n')\n",
    "\n",
    "for i in learning_rates:\n",
    "    plt.plot(np.squeeze(modelsOR[str(i)][\"costs\"]), label= str(modelsOR[str(i)][\"learning_rate\"]))\n",
    "\n",
    "plt.ylabel('cost')\n",
    "plt.xlabel('iterations')\n",
    "\n",
    "legend = plt.legend(loc='upper center', shadow=True)\n",
    "frame = legend.get_frame()\n",
    "frame.set_facecolor('0.90')\n",
    "plt.show()"
   ]
  },
  {
   "cell_type": "code",
   "execution_count": 208,
   "metadata": {},
   "outputs": [
    {
     "name": "stdout",
     "output_type": "stream",
     "text": [
      "-----------NAND Neural Network Model---------\n",
      "Cost after iteration 0: 1.500000\n",
      "Cost after iteration 1: 0.500000\n",
      "Cost after iteration 2: 0.500000\n",
      "Cost after iteration 3: 1.000000\n",
      "Cost after iteration 4: 0.500000\n",
      "Cost after iteration 5: 0.000000\n",
      "Cost after iteration 6: 0.000000\n",
      "Cost after iteration 7: 0.000000\n",
      "Cost after iteration 8: 0.000000\n",
      "Cost after iteration 9: 0.000000\n",
      "train accuracy: 100.0 %\n",
      "w: [[-0.01]\n",
      " [-0.01]]\n",
      "b: 0.019999999999999997\n",
      "Y_prediction_train: [[1. 1. 1. 0.]]\n",
      "Y_train: [[1 1 1 0]]\n"
     ]
    },
    {
     "data": {
      "image/png": "[encoded data removed]",
      "text/plain": [
       "<Figure size 432x288 with 1 Axes>"
      ]
     },
     "metadata": {
      "needs_background": "light"
     },
     "output_type": "display_data"
    }
   ],
   "source": [
    "print(\"-----------NAND Neural Network Model---------\")\n",
    "dNAND = model(train_set_x, train_set_yNAND, num_iterations = 10, learning_rate = 0.01, print_cost = True)\n",
    "# Plot learning curve (with costs)\n",
    "costs = np.squeeze(dNAND['costs'])\n",
    "plt.plot(costs)\n",
    "plt.ylabel('cost')\n",
    "plt.xlabel('iterations ')\n",
    "plt.title(\"Learning rate =\" + str(dNAND[\"learning_rate\"]))\n",
    "plt.show()"
   ]
  },
  {
   "cell_type": "code",
   "execution_count": 209,
   "metadata": {},
   "outputs": [
    {
     "name": "stdout",
     "output_type": "stream",
     "text": [
      "learning rate is: 0.01\n",
      "Cost after iteration 0: 1.500000\n",
      "Cost after iteration 1: 0.500000\n",
      "Cost after iteration 2: 0.500000\n",
      "Cost after iteration 3: 1.000000\n",
      "Cost after iteration 4: 0.500000\n",
      "Cost after iteration 5: 0.000000\n",
      "Cost after iteration 6: 0.000000\n",
      "Cost after iteration 7: 0.000000\n",
      "Cost after iteration 8: 0.000000\n",
      "Cost after iteration 9: 0.000000\n",
      "train accuracy: 100.0 %\n",
      "w: [[-0.01]\n",
      " [-0.01]]\n",
      "b: 0.019999999999999997\n",
      "Y_prediction_train: [[1. 1. 1. 0.]]\n",
      "Y_train: [[1 1 1 0]]\n",
      "\n",
      "-------------------------------------------------------\n",
      "\n",
      "learning rate is: 0.001\n",
      "Cost after iteration 0: 1.500000\n",
      "Cost after iteration 1: 0.500000\n",
      "Cost after iteration 2: 0.500000\n",
      "Cost after iteration 3: 1.000000\n",
      "Cost after iteration 4: 0.500000\n",
      "Cost after iteration 5: 0.000000\n",
      "Cost after iteration 6: 0.000000\n",
      "Cost after iteration 7: 0.000000\n",
      "Cost after iteration 8: 0.000000\n",
      "Cost after iteration 9: 0.000000\n",
      "train accuracy: 75.0 %\n",
      "w: [[-0.001]\n",
      " [-0.001]]\n",
      "b: 0.002\n",
      "Y_prediction_train: [[1. 1. 1. 1.]]\n",
      "Y_train: [[1 1 1 0]]\n",
      "\n",
      "-------------------------------------------------------\n",
      "\n",
      "learning rate is: 0.0001\n",
      "Cost after iteration 0: 1.500000\n",
      "Cost after iteration 1: 0.500000\n",
      "Cost after iteration 2: 0.500000\n",
      "Cost after iteration 3: 0.000000\n",
      "Cost after iteration 4: 0.000000\n",
      "Cost after iteration 5: 0.000000\n",
      "Cost after iteration 6: 0.000000\n",
      "Cost after iteration 7: 0.000000\n",
      "Cost after iteration 8: 0.000000\n",
      "Cost after iteration 9: 0.000000\n",
      "train accuracy: 100.0 %\n",
      "w: [[-0.0001]\n",
      " [-0.0001]]\n",
      "b: 0.00010000000000000003\n",
      "Y_prediction_train: [[1. 1. 1. 0.]]\n",
      "Y_train: [[1 1 1 0]]\n",
      "\n",
      "-------------------------------------------------------\n",
      "\n"
     ]
    },
    {
     "data": {
      "image/png": "[encoded data removed]",
      "text/plain": [
       "<Figure size 432x288 with 1 Axes>"
      ]
     },
     "metadata": {
      "needs_background": "light"
     },
     "output_type": "display_data"
    }
   ],
   "source": [
    "learning_rates = [0.01, 0.001, 0.0001]\n",
    "modelsNAND = {}\n",
    "for i in learning_rates:\n",
    "    print (\"learning rate is: \" + str(i))\n",
    "    modelsNAND[str(i)] = model(train_set_x, train_set_yNAND, num_iterations = 10, learning_rate = i, print_cost = False)\n",
    "    print ('\\n' + \"-------------------------------------------------------\" + '\\n')\n",
    "\n",
    "for i in learning_rates:\n",
    "    plt.plot(np.squeeze(modelsNAND[str(i)][\"costs\"]), label= str(modelsNAND[str(i)][\"learning_rate\"]))\n",
    "\n",
    "plt.ylabel('cost')\n",
    "plt.xlabel('iterations')\n",
    "\n",
    "legend = plt.legend(loc='upper center', shadow=True)\n",
    "frame = legend.get_frame()\n",
    "frame.set_facecolor('0.90')\n",
    "plt.show()"
   ]
  }
 ],
 "metadata": {
  "kernelspec": {
   "display_name": "Python 3",
   "language": "python",
   "name": "python3"
  },
  "language_info": {
   "codemirror_mode": {
    "name": "ipython",
    "version": 3
   },
   "file_extension": ".py",
   "mimetype": "text/x-python",
   "name": "python",
   "nbconvert_exporter": "python",
   "pygments_lexer": "ipython3",
   "version": "3.7.4"
  }
 },
 "nbformat": 4,
 "nbformat_minor": 2
}
